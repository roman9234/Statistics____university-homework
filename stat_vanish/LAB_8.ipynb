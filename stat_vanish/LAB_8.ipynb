{
 "cells": [
  {
   "cell_type": "code",
   "id": "initial_id",
   "metadata": {
    "collapsed": true,
    "ExecuteTime": {
     "end_time": "2025-03-03T08:23:52.818202Z",
     "start_time": "2025-03-03T08:23:51.743088Z"
    }
   },
   "source": [
    "import random\n",
    "\n",
    "import scipy.stats as sts\n",
    "from matplotlib import pyplot as plt\n",
    "\n",
    "# y = b0 + b1*x\n",
    "\n",
    "xs = [i + 1 for i in range(10)]\n",
    "ys = [2.2, 3.1, 4.1, 5.0, 5.8, 6.9, 7.8, 9.0, 10.2, 11.1]\n",
    "\n",
    "\n",
    "# Задание 1\n",
    "def count_b0(xs, ys):\n",
    "    x2_sum = sum([x**2 for x in xs])\n",
    "    yx_sum = sum([ys[i] * xs[i] for i in range(len(xs))])\n",
    "\n",
    "    b0 = (sum(ys) * x2_sum - yx_sum * sum(xs)) / (len(xs) * x2_sum - sum(xs) * sum(xs))\n",
    "    return b0\n",
    "\n",
    "\n",
    "b0 = count_b0(xs, ys)\n",
    "print(\"b0 = \" + str(b0))\n",
    "\n",
    "\n",
    "def count_b1(xs, ys):\n",
    "    x2_sum = sum([x**2 for x in xs])\n",
    "    yx_sum = sum([ys[i] * xs[i] for i in range(len(xs))])\n",
    "\n",
    "    b1 = (sum(ys) * sum(xs) - len(xs) * yx_sum) / (sum(xs) * sum(xs) - len(xs) * x2_sum)\n",
    "    return b1\n",
    "\n",
    "\n",
    "b1 = count_b1(xs, ys)\n",
    "print(\"b1 = \" + str(b1))\n",
    "\n",
    "\n",
    "def f(x):\n",
    "    return b1 * x + b0\n",
    "\n",
    "\n",
    "plt.scatter(xs, ys)\n",
    "plt.plot([0, xs[-1]], [b0, xs[-1] * b1 + b0])\n",
    "# plt.show()\n",
    "\n",
    "# Задание 2\n",
    "def count_D1(xs, ys):\n",
    "    arr = [(ys[i] - f(xs[i]))**2 for i in range(len(xs))]\n",
    "    return (1 / (len(xs) - 2)) * sum(arr)\n",
    "\n",
    "print(xs)\n",
    "print(ys)\n",
    "D1 = count_D1(xs, ys)\n",
    "print(\"D1 = \" + str(D1))\n",
    "\n",
    "# Задние 3\n",
    "\n",
    "S2 = 0.1\n",
    "\n",
    "Fkr = sts.f.ppf(0.95, len(xs) - 2, 20)\n",
    "print(\"Fkr = \" + str(Fkr))\n",
    "print(\"D1 / S2 = \" + str(D1 / S2))\n",
    "bol = (D1 / S2) > Fkr\n",
    "if bol:\n",
    "    print(\"Разница значима\")\n",
    "else:\n",
    "    print(\"Разница не значима, поправка не требуется\")\n",
    "\n",
    "\n",
    "\n",
    "# New ys\n",
    "\n",
    "p = 0.05\n",
    "\n",
    "def count_new_y(ys, k):\n",
    "    new_ys = []\n",
    "    for y in ys:\n",
    "        num = random.random() * 2 - 1\n",
    "        new_y = num * k + y\n",
    "        new_ys.append(new_y)\n",
    "    return new_ys\n",
    "\n",
    "new_ys = count_new_y(ys, 0.2)\n",
    "\n",
    "plt.scatter(xs, new_ys, color=\"g\")\n",
    "\n",
    "b02 = count_b0(xs, new_ys)\n",
    "print(\"b0 = \" + str(b0))\n",
    "b12 = count_b1(xs, new_ys)\n",
    "print(\"b1 = \" + str(b1))\n",
    "plt.plot([0, xs[-1]], [b02, xs[-1] * b12 + b0], color=\"g\")\n",
    "\n",
    "D2 = count_D1(xs, new_ys)\n",
    "plt.show()\n",
    "\n",
    "\n",
    "S2 = 0.1\n",
    "\n",
    "Fkr = sts.f.ppf(0.95, len(xs) - 2, 20)\n",
    "print(\"Fkr = \" + str(Fkr))\n",
    "print(\"D2 / S2 = \" + str(D2 / S2))\n",
    "bol = (D2 / S2) > Fkr\n",
    "if bol:\n",
    "    print(\"Разница значима\")\n",
    "else:\n",
    "    print(\"Разница не значима, поправка не требуется\")\n",
    "\n",
    "\n"
   ],
   "outputs": [
    {
     "name": "stdout",
     "output_type": "stream",
     "text": [
      "b0 = 1.06\n",
      "b1 = 0.9927272727272727\n",
      "[1, 2, 3, 4, 5, 6, 7, 8, 9, 10]\n",
      "[2.2, 3.1, 4.1, 5.0, 5.8, 6.9, 7.8, 9.0, 10.2, 11.1]\n",
      "D1 = 0.02395454545454547\n",
      "Fkr = 2.4470637479798225\n",
      "D1 / S2 = 0.2395454545454547\n",
      "Разница не значима, поправка не требуется\n",
      "b0 = 1.06\n",
      "b1 = 0.9927272727272727\n"
     ]
    },
    {
     "data": {
      "text/plain": [
       "<Figure size 640x480 with 1 Axes>"
      ],
      "image/png": "[encoded data removed]"
     },
     "metadata": {},
     "output_type": "display_data"
    },
    {
     "name": "stdout",
     "output_type": "stream",
     "text": [
      "Fkr = 2.4470637479798225\n",
      "D2 / S2 = 0.31845838049511277\n",
      "Разница не значима, поправка не требуется\n"
     ]
    }
   ],
   "execution_count": 1
  }
 ],
 "metadata": {
  "kernelspec": {
   "display_name": "Python 3",
   "language": "python",
   "name": "python3"
  },
  "language_info": {
   "codemirror_mode": {
    "name": "ipython",
    "version": 2
   },
   "file_extension": ".py",
   "mimetype": "text/x-python",
   "name": "python",
   "nbconvert_exporter": "python",
   "pygments_lexer": "ipython2",
   "version": "2.7.6"
  }
 },
 "nbformat": 4,
 "nbformat_minor": 5
}
